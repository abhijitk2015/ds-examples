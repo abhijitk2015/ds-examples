{
 "cells": [
  {
   "cell_type": "code",
   "execution_count": 1,
   "metadata": {
    "collapsed": true
   },
   "outputs": [],
   "source": [
    "import numpy as np\n",
    "\n",
    "from gensim import matutils\n",
    "from gensim.models.ldamodel import LdaModel\n",
    "from sklearn import linear_model\n",
    "from sklearn.datasets import fetch_20newsgroups\n",
    "from sklearn.feature_extraction.text import CountVectorizer\n"
   ]
  },
  {
   "cell_type": "code",
   "execution_count": 24,
   "metadata": {},
   "outputs": [],
   "source": [
    "\n",
    "\n",
    "def print_features(clf, vocab, n=10):\n",
    "    \"\"\" Print sorted list of non-zero features/weights. \"\"\"\n",
    "    coef = clf.coef_[0]\n",
    "    print('positive features: %s' % (' '.join(['%s/%.2f' % (vocab[j], coef[j]) for j in np.argsort(coef)[::-1][:n] if coef[j] > 0])))\n",
    "    print('negative features: %s' % (' '.join(['%s/%.2f' % (vocab[j], coef[j]) for j in np.argsort(coef)[:n] if coef[j] < 0])))\n",
    "\n",
    "\n",
    "def fit_classifier(X, y, C=0.1):\n",
    "    \"\"\" Fit L1 Logistic Regression classifier. \"\"\"\n",
    "    # Smaller C means fewer features selected.\n",
    "    clf = linear_model.LogisticRegression(penalty='l1', C=C)\n",
    "    clf.fit(X, y)\n",
    "    return clf\n",
    "\n",
    "\n",
    "def fit_lda(X, vocab, num_topics=5, passes=20):\n",
    "    \"\"\" Fit LDA from a scipy CSR matrix (X). \"\"\"\n",
    "    print('fitting lda...')\n",
    "    return LdaModel(matutils.Sparse2Corpus(X), num_topics=num_topics,\n",
    "                    passes=passes,\n",
    "                    id2word=dict([(i, s) for i, s in enumerate(vocab)]))\n"
   ]
  },
  {
   "cell_type": "code",
   "execution_count": 25,
   "metadata": {},
   "outputs": [
    {
     "name": "stdout",
     "output_type": "stream",
     "text": [
      "positive features: clipper/1.50 code/1.24 key/1.04 encryption/0.95 government/0.37 chip/0.37 nsa/0.37 uk/0.36 org/0.23 cryptography/0.23\n",
      "negative features: baseball/-1.32 game/-0.71 year/-0.61 team/-0.38 edu/-0.27 games/-0.27 players/-0.23 ball/-0.17 season/-0.14 phillies/-0.11\n"
     ]
    }
   ],
   "source": [
    "\n",
    "# Load data.\n",
    "rand = np.random.mtrand.RandomState(8675309)\n",
    "cats = ['rec.sport.baseball', 'sci.crypt']\n",
    "data = fetch_20newsgroups(subset='train',categories=cats,shuffle=True, random_state=rand)\n",
    "\n",
    "vec = CountVectorizer(min_df=10, stop_words='english')\n",
    "X = vec.fit_transform(data.data)\n",
    "vocab = vec.get_feature_names()\n",
    "\n",
    "# Fit classifier.\n",
    "clf = fit_classifier(X, data.target)\n",
    "print_features(clf, vocab)\n"
   ]
  },
  {
   "cell_type": "code",
   "execution_count": 26,
   "metadata": {},
   "outputs": [
    {
     "name": "stdout",
     "output_type": "stream",
     "text": [
      "fitting lda...\n"
     ]
    }
   ],
   "source": [
    "\n",
    "# Fit LDA.\n",
    "lda = fit_lda(X, vocab)\n"
   ]
  },
  {
   "cell_type": "code",
   "execution_count": 27,
   "metadata": {},
   "outputs": [
    {
     "name": "stdout",
     "output_type": "stream",
     "text": [
      "[(0, '0.020*\"biochem\" + 0.019*\"cf\" + 0.016*\"generate\" + 0.012*\"17\" + 0.007*\"america\" + 0.007*\"authentication\" + 0.007*\"boggs\" + 0.007*\"d1\" + 0.006*\"expected\" + 0.006*\"contact\"'), (1, '0.058*\"contains\" + 0.051*\"digitized\" + 0.036*\"cf\" + 0.026*\"everybody\" + 0.023*\"gajarsky\" + 0.020*\"correct\" + 0.017*\"bound\" + 0.016*\"fenway\" + 0.012*\"announcement\" + 0.012*\"51\"'), (2, '0.057*\"correct\" + 0.055*\"contains\" + 0.033*\"cf\" + 0.028*\"er\" + 0.022*\"awful\" + 0.021*\"general\" + 0.021*\"famous\" + 0.021*\"162\" + 0.020*\"anderson\" + 0.020*\"asbestos\"'), (3, '0.012*\"dos\" + 0.011*\"disagree\" + 0.010*\"able\" + 0.010*\"features\" + 0.010*\"allegheny\" + 0.010*\"brothers\" + 0.010*\"electronically\" + 0.010*\"expansion\" + 0.009*\"entire\" + 0.008*\"c6\"'), (4, '0.023*\"fri\" + 0.021*\"d3\" + 0.013*\"gold\" + 0.012*\"close\" + 0.009*\"creation\" + 0.008*\"convert\" + 0.008*\"354\" + 0.008*\"att\" + 0.008*\"fresh\" + 0.008*\"funds\"')]\n"
     ]
    }
   ],
   "source": [
    " print(lda.show_topics())"
   ]
  },
  {
   "cell_type": "code",
   "execution_count": null,
   "metadata": {
    "collapsed": true
   },
   "outputs": [],
   "source": []
  }
 ],
 "metadata": {
  "kernelspec": {
   "display_name": "Python 3",
   "language": "python",
   "name": "python3"
  },
  "language_info": {
   "codemirror_mode": {
    "name": "ipython",
    "version": 3
   },
   "file_extension": ".py",
   "mimetype": "text/x-python",
   "name": "python",
   "nbconvert_exporter": "python",
   "pygments_lexer": "ipython3",
   "version": "3.4.3"
  }
 },
 "nbformat": 4,
 "nbformat_minor": 2
}
